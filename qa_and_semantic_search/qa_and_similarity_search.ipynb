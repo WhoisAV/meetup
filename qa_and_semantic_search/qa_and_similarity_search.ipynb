{
 "cells": [
  {
   "cell_type": "markdown",
   "id": "dd115ea9",
   "metadata": {},
   "source": [
    "# Generating & Storing Embeddings for a Corpus"
   ]
  },
  {
   "cell_type": "code",
   "execution_count": 1,
   "id": "7ad76d49",
   "metadata": {},
   "outputs": [],
   "source": [
    "import os\n",
    "import api_keys\n",
    "from langchain.document_loaders import PyPDFDirectoryLoader\n",
    "from langchain.llms import OpenAI\n",
    "from langchain.embeddings import OpenAIEmbeddings\n",
    "from langchain.vectorstores import Chroma\n",
    "from langchain.chat_models import ChatOpenAI\n",
    "from langchain.chains import RetrievalQA"
   ]
  },
  {
   "cell_type": "code",
   "execution_count": 2,
   "id": "d06cbac9",
   "metadata": {},
   "outputs": [],
   "source": [
    "os.environ['OPENAI_API_KEY'] = api_keys.keys['openai']\n",
    "sources_directory = 'sources/'\n",
    "persist_directory = 'db'"
   ]
  },
  {
   "cell_type": "markdown",
   "id": "ce3e2963",
   "metadata": {},
   "source": [
    "### Load and split into chunks all the PDFs in a folder"
   ]
  },
  {
   "cell_type": "code",
   "execution_count": 3,
   "id": "6f3f8609",
   "metadata": {
    "scrolled": true
   },
   "outputs": [
    {
     "name": "stdout",
     "output_type": "stream",
     "text": [
      "CPU times: total: 13.9 s\n",
      "Wall time: 14.3 s\n"
     ]
    }
   ],
   "source": [
    "%%time\n",
    "\n",
    "# load and process the corpus from the sources directory\n",
    "loader = PyPDFDirectoryLoader(sources_directory)\n",
    "docs = loader.load()"
   ]
  },
  {
   "cell_type": "code",
   "execution_count": 4,
   "id": "d38988bd",
   "metadata": {},
   "outputs": [
    {
     "name": "stdout",
     "output_type": "stream",
     "text": [
      "745\n",
      "----\n",
      "page_content='MARCUS AURELIUS AT LANUVIUM  \\n \\n \\n_Letter from Celsus to Lucian_  \\n \\nI arrived at Lanuvium last night. The Court are here for the summer;  \\nthat is to say, the Emperor, the Empress, the Heir Apparent, and the  \\nEmperor’s nephew, Ummidius Quadratus, and the Senator who is on duty.  \\nAs soon as I arrived I was taken by Eclectus, the Chamberlain, to my  \\napartments, which are small, but from which one obtains a beautiful  \\nview of the Alban Hills. I was told that I would be expected to come to  \\nsupper, and that I must take care not to be late, as the Emperor was  \\npunctual to a minute, and the water clocks in the villa were purposely  \\nan hour fast according t o ordinary time.  \\n \\nA few minutes before the hour of supper a slave was sent to fetch me,  \\nand I was ushered into a large room, opening on to a portico from  \\nwhence you have a gorgeous view of the whole country, where the  \\nEmperor and his family meet before goi ng into the dining -room. \\n \\nI had never seen the Emperor before. He is short and looks delicate  \\nand a great deal older than he really is. His eyes have a weary  \\nexpression, and the general impression of the man would be one of great  \\nbenevolence and dignity we re it not marred by a certain stiffness and  \\nprimness in his demeanour. When he greets you with great affability,  \\nyou say to yourself, “What a charming man!” Then he stops short,  \\nand it is difficult, nay, impossible, to continue the conversation.  \\nAfter a pr olonged pause he asks you a question or makes some remark  \\non the weather or the topics of the day. But he does not pursue the  \\nsubject, and the result is a succession of awkward pauses and a general  \\natmosphere of discomfort.  \\n \\nWhether it be from the reserve which at once strikes you as being  \\nthe most salient feature of his character, or whether it be from the  \\nprimness and the sligh t touch of pedantry which are the result of the  \\npeculiar way in which he was brought up, there is a certain lack, not  \\nof dignity, indeed, but of impressiveness in the man. He strikes you  \\nmore as a dignified man than as a dignified monarch. Indeed, were I  \\nto meet Marcus Aurelius in the streets of Rome or Athens, dressed as  \\na simple mortal, I should be inclined to take him for a barber who  \\ncatered for the aristocracy. As it was, when I was first introduced  \\ninto that ante -room and saw the Emperor for the first  time, a wild  \\nlonging rose in me to say to him, “I will be shaved at half -past eight  \\nto-morrow morning.”  \\n \\nThe Empress Faustina is quite unlike what I had expected. There is no  \\ntrace of Imperial or any other kind of dignity about her. She is not  \\nvery tall; she has a delicate nose, slightly turned up, laughing eyes  \\nwhich will surely remain eternally young, and masses of thick, curly  \\nfair hair. I had imagined from the pictures and effigies of her that  \\nshe was dark; possibly she may have dyed it lately, but I d o not think  \\nso. She is restless in her movements; she is never still, but is always  \\non the move, and one has the impression that she is longing to, and  \\nwould if she dared, skip and jump about the room like a child. As it  \\nis, her arms, and especially her ha nds, are never for a moment still,  \\nand her eyes shift quickly from one person to another, smiling and  \\nlaughing. She made one feel that she was trying the whole time to be on  ' metadata={'source': 'sources\\\\MARCUS AURELIUS AT LANUVIUM.pdf', 'page': 0}\n"
     ]
    }
   ],
   "source": [
    "print(len(docs))\n",
    "print('----')\n",
    "print(docs[0])"
   ]
  },
  {
   "cell_type": "markdown",
   "id": "b65980c6",
   "metadata": {},
   "source": [
    "### Generate embeddings and store them in a vector database"
   ]
  },
  {
   "cell_type": "code",
   "execution_count": 5,
   "id": "f7682ba9",
   "metadata": {},
   "outputs": [
    {
     "name": "stdout",
     "output_type": "stream",
     "text": [
      "CPU times: total: 2.58 s\n",
      "Wall time: 15.9 s\n"
     ]
    }
   ],
   "source": [
    "%%time\n",
    "\n",
    "# set up the embeddings model\n",
    "embedding = OpenAIEmbeddings()\n",
    "# generate the local vector database from the processed corpus\n",
    "vectordb = Chroma.from_documents(documents=docs, embedding=embedding, persist_directory=persist_directory)\n",
    "\n",
    "# In a notebook, we should call persist() to ensure the embeddings are written to disk. \n",
    "vectordb.persist()"
   ]
  },
  {
   "cell_type": "code",
   "execution_count": null,
   "id": "7a1c61bc",
   "metadata": {},
   "outputs": [],
   "source": []
  },
  {
   "cell_type": "markdown",
   "id": "b4a2fb1b",
   "metadata": {},
   "source": [
    "# Querying the Corpus"
   ]
  },
  {
   "cell_type": "code",
   "execution_count": 7,
   "id": "d83dc8ca",
   "metadata": {},
   "outputs": [],
   "source": [
    "model_name = 'gpt-4'\n",
    "k = 1"
   ]
  },
  {
   "cell_type": "code",
   "execution_count": 8,
   "id": "1b89cc50",
   "metadata": {},
   "outputs": [
    {
     "name": "stderr",
     "output_type": "stream",
     "text": [
      "C:\\ProgramData\\Anaconda3\\lib\\site-packages\\langchain\\llms\\openai.py:169: UserWarning: You are trying to use a chat model. This way of initializing it is no longer supported. Instead, please use: `from langchain.chat_models import ChatOpenAI`\n",
      "  warnings.warn(\n",
      "C:\\ProgramData\\Anaconda3\\lib\\site-packages\\langchain\\llms\\openai.py:696: UserWarning: You are trying to use a chat model. This way of initializing it is no longer supported. Instead, please use: `from langchain.chat_models import ChatOpenAI`\n",
      "  warnings.warn(\n"
     ]
    }
   ],
   "source": [
    "# set up the LLM to use\n",
    "llm = OpenAI(model_name = model_name, temperature = 0.1, verbose=True)\n",
    "\n",
    "# set up the embeddings model\n",
    "embedding = OpenAIEmbeddings()\n",
    "\n",
    "# create the connection to the local vector database \n",
    "vectordb = Chroma(persist_directory=persist_directory, embedding_function=embedding)"
   ]
  },
  {
   "cell_type": "markdown",
   "id": "7c4b2c5b",
   "metadata": {},
   "source": [
    "### Basic Similarity Search"
   ]
  },
  {
   "cell_type": "code",
   "execution_count": 9,
   "id": "f0ff7441",
   "metadata": {
    "scrolled": true
   },
   "outputs": [
    {
     "data": {
      "text/plain": [
       "[Document(page_content=\"THE THOUGHTS  OF THE EMPEROR  MARCUS AURELIUS ANTONINUS  \\n \\n \\n \\n \\n \\nCONTENTS.  \\n \\n \\nBIOGRAPHICAL SKETCH      9  \\n \\nPHILOSOPHY OF MARCUS AURELIUS ANTONINUS      45  \\n \\nTHE THOUGHTS      99  \\n \\nINDEX OF TERMS      305  \\n \\nGENERAL INDEX      311  \\n \\n \\n \\nBIOGRAPHICA L SKETCH  \\n \\nOF \\n \\nMARCUS AURELIUS ANTONINUS.  \\n \\n \\nM. Antoninus was born at Rome, A.D. 121, on the 26th of April. His  \\nfather, Annius Verus, died while he was praetor. His mother was Domitia  \\nCalvilla, also named Lucilla. The Emperor T. Antoninus Pius married  \\nAnnia Galeria Faustina, the sister of Annius Verus, and was consequently  \\nthe uncle of M. Antoninus. When Hadrian adopted Antoninus Pius and  \\ndeclared him his successor in the empire, Antoni nus Pius adopted both L.  \\nCeionius Commodus, the son of Aelius Caesar, and M. Antoninus, whose  \\noriginal name was M. Annius Verus. Antoninus then took the name of M.  \\nAelius Aurelius Verus, to which was added the title of Caesar in A.D.  \\n139: the name Aelius b elonged to Hadrian's family, and Aurelius was the  \\nname of Antoninus Pius. When M. Antoninus became Augustus, he dropped  \\nthe name of Verus and took the name of Antoninus. Accordingly he is  \\ngenerally named M. Aurelius Antoninus, or simply M. Antoninus.  \\n \\nThe youth was most carefully brought up. He thanks the gods (i. 17) that  \\nhe had good grandfathers, good parents, a good sister, good teachers,  \\ngood associates, good kinsmen and friends, nearly everything good. He  \\nhad the happy fortune to witness the example of  his uncle and adoptive  \\nfather Antoninus Pius, and he has recorded in his word (i. 16; vi. 30)  \\nthe virtues of the excellent man and prudent ruler. Like many young  \\nRomans he tried his hand at poetry and studied rhetoric. Herodes Atticus  \\nand M. Cornelius Fro nto were his teachers in eloquence. There are extant  \\nletters between Fronto and Marcus,[A] which show the great affection of  \\nthe pupil for the master, and the master's great hopes of his  \\nindustrious pupil. M. Antoninus mentions Fronto (i. 11) among those t o \\nwhom he was indebted for his education.  \\n \\n    [A] M. Cornelii Frontonis Reliquiae, Berlin, 1816. There are a  \\n    few letters between Fronto and Antoninus Pius.  \", metadata={'source': 'sources\\\\THE THOUGHTS OF THE EMPEROR MARCUS AURELIUS ANTONINUS.pdf', 'page': 0})]"
      ]
     },
     "execution_count": 9,
     "metadata": {},
     "output_type": "execute_result"
    }
   ],
   "source": [
    "resp = vectordb.similarity_search('When was Marcus Aurelius Born?', k=k)\n",
    "resp"
   ]
  },
  {
   "cell_type": "code",
   "execution_count": 10,
   "id": "9bd96a5c",
   "metadata": {},
   "outputs": [
    {
     "data": {
      "text/plain": [
       "[(Document(page_content=\"THE THOUGHTS  OF THE EMPEROR  MARCUS AURELIUS ANTONINUS  \\n \\n \\n \\n \\n \\nCONTENTS.  \\n \\n \\nBIOGRAPHICAL SKETCH      9  \\n \\nPHILOSOPHY OF MARCUS AURELIUS ANTONINUS      45  \\n \\nTHE THOUGHTS      99  \\n \\nINDEX OF TERMS      305  \\n \\nGENERAL INDEX      311  \\n \\n \\n \\nBIOGRAPHICA L SKETCH  \\n \\nOF \\n \\nMARCUS AURELIUS ANTONINUS.  \\n \\n \\nM. Antoninus was born at Rome, A.D. 121, on the 26th of April. His  \\nfather, Annius Verus, died while he was praetor. His mother was Domitia  \\nCalvilla, also named Lucilla. The Emperor T. Antoninus Pius married  \\nAnnia Galeria Faustina, the sister of Annius Verus, and was consequently  \\nthe uncle of M. Antoninus. When Hadrian adopted Antoninus Pius and  \\ndeclared him his successor in the empire, Antoni nus Pius adopted both L.  \\nCeionius Commodus, the son of Aelius Caesar, and M. Antoninus, whose  \\noriginal name was M. Annius Verus. Antoninus then took the name of M.  \\nAelius Aurelius Verus, to which was added the title of Caesar in A.D.  \\n139: the name Aelius b elonged to Hadrian's family, and Aurelius was the  \\nname of Antoninus Pius. When M. Antoninus became Augustus, he dropped  \\nthe name of Verus and took the name of Antoninus. Accordingly he is  \\ngenerally named M. Aurelius Antoninus, or simply M. Antoninus.  \\n \\nThe youth was most carefully brought up. He thanks the gods (i. 17) that  \\nhe had good grandfathers, good parents, a good sister, good teachers,  \\ngood associates, good kinsmen and friends, nearly everything good. He  \\nhad the happy fortune to witness the example of  his uncle and adoptive  \\nfather Antoninus Pius, and he has recorded in his word (i. 16; vi. 30)  \\nthe virtues of the excellent man and prudent ruler. Like many young  \\nRomans he tried his hand at poetry and studied rhetoric. Herodes Atticus  \\nand M. Cornelius Fro nto were his teachers in eloquence. There are extant  \\nletters between Fronto and Marcus,[A] which show the great affection of  \\nthe pupil for the master, and the master's great hopes of his  \\nindustrious pupil. M. Antoninus mentions Fronto (i. 11) among those t o \\nwhom he was indebted for his education.  \\n \\n    [A] M. Cornelii Frontonis Reliquiae, Berlin, 1816. There are a  \\n    few letters between Fronto and Antoninus Pius.  \", metadata={'source': 'sources\\\\THE THOUGHTS OF THE EMPEROR MARCUS AURELIUS ANTONINUS.pdf', 'page': 0}),\n",
       "  0.3112795352935791)]"
      ]
     },
     "execution_count": 10,
     "metadata": {},
     "output_type": "execute_result"
    }
   ],
   "source": [
    "# usese Cosine Distance metric so lower is better\n",
    "resp = vectordb.similarity_search_with_score('What was marcus aurelius real name?', k=k)\n",
    "resp"
   ]
  },
  {
   "cell_type": "markdown",
   "id": "cf9a2f0f",
   "metadata": {},
   "source": [
    "### Querry OpenAI's API using the Similarity Search results as Context"
   ]
  },
  {
   "cell_type": "code",
   "execution_count": 11,
   "id": "252e6de3",
   "metadata": {},
   "outputs": [],
   "source": [
    "# A retriever is an interface that returns documents given an unstructured query\n",
    "retriever = vectordb.as_retriever(search_kwargs={'k':k})\n",
    "\n",
    "# RetrievalQA combines a retriever and a question answering model to \n",
    "# retrieve relevant documents and provide answers to questions\n",
    "qa = RetrievalQA.from_chain_type(llm=llm, \n",
    "                                 chain_type=\"stuff\", # can be other types like map-reduce, refine, etc.\n",
    "                                 retriever=retriever,\n",
    "                                 return_source_documents=True)"
   ]
  },
  {
   "cell_type": "code",
   "execution_count": 12,
   "id": "051a67f5",
   "metadata": {},
   "outputs": [
    {
     "data": {
      "text/plain": [
       "{'query': 'Was marcus aurelius punctual? Can you describe a few instances where is that shown?',\n",
       " 'result': 'Yes, Marcus Aurelius was described as being punctual. This is shown when Celsus is told upon his arrival at Lanuvium that he must not be late for supper as the Emperor was punctual to a minute. The water clocks in the villa were even set an hour fast to ensure punctuality.',\n",
       " 'source_documents': [Document(page_content='MARCUS AURELIUS AT LANUVIUM  \\n \\n \\n_Letter from Celsus to Lucian_  \\n \\nI arrived at Lanuvium last night. The Court are here for the summer;  \\nthat is to say, the Emperor, the Empress, the Heir Apparent, and the  \\nEmperor’s nephew, Ummidius Quadratus, and the Senator who is on duty.  \\nAs soon as I arrived I was taken by Eclectus, the Chamberlain, to my  \\napartments, which are small, but from which one obtains a beautiful  \\nview of the Alban Hills. I was told that I would be expected to come to  \\nsupper, and that I must take care not to be late, as the Emperor was  \\npunctual to a minute, and the water clocks in the villa were purposely  \\nan hour fast according t o ordinary time.  \\n \\nA few minutes before the hour of supper a slave was sent to fetch me,  \\nand I was ushered into a large room, opening on to a portico from  \\nwhence you have a gorgeous view of the whole country, where the  \\nEmperor and his family meet before goi ng into the dining -room. \\n \\nI had never seen the Emperor before. He is short and looks delicate  \\nand a great deal older than he really is. His eyes have a weary  \\nexpression, and the general impression of the man would be one of great  \\nbenevolence and dignity we re it not marred by a certain stiffness and  \\nprimness in his demeanour. When he greets you with great affability,  \\nyou say to yourself, “What a charming man!” Then he stops short,  \\nand it is difficult, nay, impossible, to continue the conversation.  \\nAfter a pr olonged pause he asks you a question or makes some remark  \\non the weather or the topics of the day. But he does not pursue the  \\nsubject, and the result is a succession of awkward pauses and a general  \\natmosphere of discomfort.  \\n \\nWhether it be from the reserve which at once strikes you as being  \\nthe most salient feature of his character, or whether it be from the  \\nprimness and the sligh t touch of pedantry which are the result of the  \\npeculiar way in which he was brought up, there is a certain lack, not  \\nof dignity, indeed, but of impressiveness in the man. He strikes you  \\nmore as a dignified man than as a dignified monarch. Indeed, were I  \\nto meet Marcus Aurelius in the streets of Rome or Athens, dressed as  \\na simple mortal, I should be inclined to take him for a barber who  \\ncatered for the aristocracy. As it was, when I was first introduced  \\ninto that ante -room and saw the Emperor for the first  time, a wild  \\nlonging rose in me to say to him, “I will be shaved at half -past eight  \\nto-morrow morning.”  \\n \\nThe Empress Faustina is quite unlike what I had expected. There is no  \\ntrace of Imperial or any other kind of dignity about her. She is not  \\nvery tall; she has a delicate nose, slightly turned up, laughing eyes  \\nwhich will surely remain eternally young, and masses of thick, curly  \\nfair hair. I had imagined from the pictures and effigies of her that  \\nshe was dark; possibly she may have dyed it lately, but I d o not think  \\nso. She is restless in her movements; she is never still, but is always  \\non the move, and one has the impression that she is longing to, and  \\nwould if she dared, skip and jump about the room like a child. As it  \\nis, her arms, and especially her ha nds, are never for a moment still,  \\nand her eyes shift quickly from one person to another, smiling and  \\nlaughing. She made one feel that she was trying the whole time to be on  ', metadata={'source': 'sources\\\\MARCUS AURELIUS AT LANUVIUM.pdf', 'page': 0})]}"
      ]
     },
     "execution_count": 12,
     "metadata": {},
     "output_type": "execute_result"
    }
   ],
   "source": [
    "query = \"Was marcus aurelius punctual? Can you describe a few instances where is that shown?\"\n",
    "qa(query)"
   ]
  },
  {
   "cell_type": "code",
   "execution_count": null,
   "id": "6b81ff75",
   "metadata": {},
   "outputs": [],
   "source": []
  }
 ],
 "metadata": {
  "kernelspec": {
   "display_name": "Python 3 (ipykernel)",
   "language": "python",
   "name": "python3"
  },
  "language_info": {
   "codemirror_mode": {
    "name": "ipython",
    "version": 3
   },
   "file_extension": ".py",
   "mimetype": "text/x-python",
   "name": "python",
   "nbconvert_exporter": "python",
   "pygments_lexer": "ipython3",
   "version": "3.9.12"
  }
 },
 "nbformat": 4,
 "nbformat_minor": 5
}
